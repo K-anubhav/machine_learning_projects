{
 "cells": [
  {
   "cell_type": "code",
   "execution_count": 1,
   "metadata": {},
   "outputs": [],
   "source": [
    "import pandas as pd\n",
    "import seaborn as sns\n",
    "import matplotlib.pyplot as plt\n",
    "import numpy as np\n",
    "import warnings\n",
    "from tqdm import tqdm\n",
    "import os"
   ]
  },
  {
   "cell_type": "code",
   "execution_count": 2,
   "metadata": {},
   "outputs": [],
   "source": [
    "corpus = [\n",
    "     'this is the first document',\n",
    "     'this document is the second document',\n",
    "     'and this is the third one',\n",
    "     'is this the first document',\n",
    "]"
   ]
  },
  {
   "cell_type": "code",
   "execution_count": 3,
   "metadata": {},
   "outputs": [],
   "source": [
    "from sklearn.feature_extraction.text import TfidfVectorizer\n",
    "vectorizer = TfidfVectorizer()\n",
    "vectorizer.fit(corpus)\n",
    "skl_output = vectorizer.transform(corpus)"
   ]
  },
  {
   "cell_type": "code",
   "execution_count": 4,
   "metadata": {},
   "outputs": [
    {
     "name": "stdout",
     "output_type": "stream",
     "text": [
      "['and' 'document' 'first' 'is' 'one' 'second' 'the' 'third' 'this']\n"
     ]
    }
   ],
   "source": [
    "print(vectorizer.get_feature_names_out())"
   ]
  },
  {
   "cell_type": "code",
   "execution_count": 5,
   "metadata": {},
   "outputs": [
    {
     "name": "stdout",
     "output_type": "stream",
     "text": [
      "[1.91629073 1.22314355 1.51082562 1.         1.91629073 1.91629073\n",
      " 1.         1.91629073 1.        ]\n"
     ]
    }
   ],
   "source": [
    "print(vectorizer.idf_)\n",
    "sklvectorizer= list(vectorizer.idf_)"
   ]
  },
  {
   "cell_type": "code",
   "execution_count": 6,
   "metadata": {},
   "outputs": [
    {
     "data": {
      "text/plain": [
       "(4, 9)"
      ]
     },
     "execution_count": 6,
     "metadata": {},
     "output_type": "execute_result"
    }
   ],
   "source": [
    "skl_output.shape"
   ]
  },
  {
   "cell_type": "code",
   "execution_count": 7,
   "metadata": {},
   "outputs": [
    {
     "name": "stdout",
     "output_type": "stream",
     "text": [
      "  (0, 8)\t0.38408524091481483\n",
      "  (0, 6)\t0.38408524091481483\n",
      "  (0, 3)\t0.38408524091481483\n",
      "  (0, 2)\t0.5802858236844359\n",
      "  (0, 1)\t0.46979138557992045\n"
     ]
    }
   ],
   "source": [
    "print(skl_output[0])"
   ]
  },
  {
   "cell_type": "code",
   "execution_count": 8,
   "metadata": {},
   "outputs": [
    {
     "name": "stdout",
     "output_type": "stream",
     "text": [
      "[[0.         0.46979139 0.58028582 0.38408524 0.         0.\n",
      "  0.38408524 0.         0.38408524]]\n"
     ]
    }
   ],
   "source": [
    "print(skl_output[0].toarray())"
   ]
  },
  {
   "cell_type": "markdown",
   "metadata": {},
   "source": [
    "#### Build a TFIDF Vectorizer & compare its results with Sklearn"
   ]
  },
  {
   "cell_type": "code",
   "execution_count": 9,
   "metadata": {},
   "outputs": [],
   "source": [
    "from collections import Counter\n",
    "from scipy.sparse import csr_matrix\n",
    "import math\n",
    "import operator\n",
    "from sklearn.preprocessing import normalize\n",
    "import numpy"
   ]
  },
  {
   "cell_type": "code",
   "execution_count": 10,
   "metadata": {},
   "outputs": [],
   "source": [
    "def fit(dataset):    \n",
    "    unique_words = set() \n",
    "    if isinstance(dataset, (list,)):\n",
    "        for row in dataset: \n",
    "            for word in row.split(\" \"): \n",
    "                if len(word) < 2:\n",
    "                    continue\n",
    "                unique_words.add(word)\n",
    "        unique_words = sorted(list(unique_words))\n",
    "        vocab = {j:i for i,j in enumerate(unique_words)}\n",
    "        \n",
    "        return vocab\n",
    "    else:\n",
    "        print(\"you need to pass list of sentance\")"
   ]
  },
  {
   "cell_type": "code",
   "execution_count": 11,
   "metadata": {},
   "outputs": [
    {
     "name": "stdout",
     "output_type": "stream",
     "text": [
      "{'and': 0, 'document': 1, 'first': 2, 'is': 3, 'one': 4, 'second': 5, 'the': 6, 'third': 7, 'this': 8}\n"
     ]
    }
   ],
   "source": [
    "Dict1 = fit(corpus)\n",
    "Dict1_keys = list(Dict1.keys())\n",
    "print(Dict1)"
   ]
  },
  {
   "cell_type": "code",
   "execution_count": 12,
   "metadata": {},
   "outputs": [],
   "source": [
    "def count_of_word_in_corpus(dataset, word):\n",
    "  count = 0\n",
    "  for row in dataset:\n",
    "    if word in row:\n",
    "      count = count+1\n",
    "  return count"
   ]
  },
  {
   "cell_type": "code",
   "execution_count": 13,
   "metadata": {},
   "outputs": [],
   "source": [
    "def transform(dataset, vocab):\n",
    "    rows = []\n",
    "    columns = []\n",
    "    values = []\n",
    "    tf_val = []\n",
    "    idf_val = []\n",
    "    if isinstance(dataset, (list,)):\n",
    "        for idx, row in enumerate(dataset):\n",
    "            word_freq = dict(Counter(row.split()))\n",
    "            for word, freq in word_freq.items():\n",
    "                if len(word) < 2:\n",
    "                    continue\n",
    "                col_index = vocab.get(word, -1)\n",
    "                if col_index!=-1:\n",
    "                    rows.append(idx)\n",
    "                    columns.append(col_index)\n",
    "                    tf_idf_value = (freq/len(row.split()))*(1 + (  np.log( (1 + len(dataset) ) / (1 + count_of_word_in_corpus(dataset, word) ))))\n",
    "                    values.append(tf_idf_value)\n",
    "                    sparse_matrix = csr_matrix((values, (rows,columns)), shape=(len(dataset), len(vocab)))\n",
    "                    final_normalized_output = normalize(sparse_matrix)\n",
    "        return final_normalized_output\n",
    "    else:\n",
    "        print(\"you need to pass list of strings\")"
   ]
  },
  {
   "cell_type": "code",
   "execution_count": 14,
   "metadata": {},
   "outputs": [
    {
     "name": "stdout",
     "output_type": "stream",
     "text": [
      "  (0, 1)\t0.4697913855799205\n",
      "  (0, 2)\t0.580285823684436\n",
      "  (0, 3)\t0.3840852409148149\n",
      "  (0, 6)\t0.3840852409148149\n",
      "  (0, 8)\t0.3840852409148149\n",
      "  (1, 1)\t0.6876235979836937\n",
      "  (1, 3)\t0.2810886740337529\n",
      "  (1, 5)\t0.5386476208856762\n",
      "  (1, 6)\t0.2810886740337529\n",
      "  (1, 8)\t0.2810886740337529\n",
      "  (2, 0)\t0.511848512707169\n",
      "  (2, 3)\t0.267103787642168\n",
      "  (2, 4)\t0.511848512707169\n",
      "  (2, 6)\t0.267103787642168\n",
      "  (2, 7)\t0.511848512707169\n",
      "  (2, 8)\t0.267103787642168\n",
      "  (3, 1)\t0.4697913855799205\n",
      "  (3, 2)\t0.580285823684436\n",
      "  (3, 3)\t0.3840852409148149\n",
      "  (3, 6)\t0.3840852409148149\n",
      "  (3, 8)\t0.3840852409148149\n"
     ]
    }
   ],
   "source": [
    "print(transform(corpus, Dict1))"
   ]
  },
  {
   "cell_type": "code",
   "execution_count": 15,
   "metadata": {},
   "outputs": [
    {
     "name": "stdout",
     "output_type": "stream",
     "text": [
      "[[0.         0.46979139 0.58028582 0.38408524 0.         0.\n",
      "  0.38408524 0.         0.38408524]\n",
      " [0.         0.6876236  0.         0.28108867 0.         0.53864762\n",
      "  0.28108867 0.         0.28108867]\n",
      " [0.51184851 0.         0.         0.26710379 0.51184851 0.\n",
      "  0.26710379 0.51184851 0.26710379]\n",
      " [0.         0.46979139 0.58028582 0.38408524 0.         0.\n",
      "  0.38408524 0.         0.38408524]]\n"
     ]
    }
   ],
   "source": [
    "tf_idf_vectorized  = transform(corpus, Dict1)\n",
    "print(tf_idf_vectorized.toarray())"
   ]
  },
  {
   "cell_type": "markdown",
   "metadata": {},
   "source": [
    "#### SkLearn Implementation"
   ]
  },
  {
   "cell_type": "code",
   "execution_count": 16,
   "metadata": {},
   "outputs": [
    {
     "name": "stdout",
     "output_type": "stream",
     "text": [
      "[[0.         0.46979139 0.58028582 0.38408524 0.         0.\n",
      "  0.38408524 0.         0.38408524]\n",
      " [0.         0.6876236  0.         0.28108867 0.         0.53864762\n",
      "  0.28108867 0.         0.28108867]\n",
      " [0.51184851 0.         0.         0.26710379 0.51184851 0.\n",
      "  0.26710379 0.51184851 0.26710379]\n",
      " [0.         0.46979139 0.58028582 0.38408524 0.         0.\n",
      "  0.38408524 0.         0.38408524]]\n"
     ]
    }
   ],
   "source": [
    "from sklearn.feature_extraction.text import TfidfVectorizer\n",
    "vectorizer = TfidfVectorizer()\n",
    "vectorizer.fit(corpus)\n",
    "skl_tf_idf = vectorizer.transform(corpus)\n",
    "print(skl_tf_idf.toarray())"
   ]
  },
  {
   "cell_type": "markdown",
   "metadata": {},
   "source": [
    "## Task-2. Implement max features functionality:"
   ]
  },
  {
   "cell_type": "code",
   "execution_count": 17,
   "metadata": {},
   "outputs": [
    {
     "name": "stdout",
     "output_type": "stream",
     "text": [
      "Number of documents in corpus =  746\n"
     ]
    }
   ],
   "source": [
    "import pickle\n",
    "with open('cleaned_strings', 'rb') as f:\n",
    "    corpus = pickle.load(f)\n",
    "    \n",
    "# printing the length of the corpus loaded\n",
    "print(\"Number of documents in corpus = \",len(corpus))"
   ]
  },
  {
   "cell_type": "code",
   "execution_count": 18,
   "metadata": {},
   "outputs": [],
   "source": [
    "def fit_top_50(dataset):\n",
    "    unique_word_list = []\n",
    "    idf_values_list = []\n",
    "    for row in dataset:\n",
    "        for word in row.split(\" \"):\n",
    "            if (len(word) >=2) and word not in unique_word_list:\n",
    "                unique_word_list.append(word)\n",
    "    for word in unique_word_list:\n",
    "        idf_values = 1 + (  np.log( (1 + len(dataset) ) / (1 + count_of_word_in_corpus(dataset, word) )))\n",
    "        idf_values_list.append(idf_values)\n",
    "\n",
    "    ziped_list = zip(idf_values_list, unique_word_list )\n",
    "    sorted_ziped_list = sorted(ziped_list, reverse=True)\n",
    "    sorted_unique_word_list = [element for _, element in sorted_ziped_list]\n",
    "\n",
    "    word_dict_top_50 = {j:i for i,j in enumerate(sorted_unique_word_list[:50]) }\n",
    "    return word_dict_top_50"
   ]
  },
  {
   "cell_type": "code",
   "execution_count": 19,
   "metadata": {},
   "outputs": [
    {
     "name": "stdout",
     "output_type": "stream",
     "text": [
      "{'zombiez': 0, 'zillion': 1, 'yun': 2, 'youtube': 3, 'youthful': 4, 'younger': 5, 'yelps': 6, 'yawn': 7, 'yardley': 8, 'wrote': 9, 'writers': 10, 'wrap': 11, 'wow': 12, 'woven': 13, 'wouldnt': 14, 'worthwhile': 15, 'worthless': 16, 'worry': 17, 'worked': 18, 'wont': 19, 'wong': 20, 'wondered': 21, 'woa': 22, 'witticisms': 23, 'within': 24, 'wily': 25, 'willie': 26, 'william': 27, 'wild': 28, 'wih': 29, 'wife': 30, 'widmark': 31, 'wide': 32, 'whoever': 33, 'whites': 34, 'whine': 35, 'whenever': 36, 'went': 37, 'welsh': 38, 'weight': 39, 'wedding': 40, 'website': 41, 'weaving': 42, 'weariness': 43, 'weaker': 44, 'wayne': 45, 'waylaid': 46, 'wave': 47, 'wasting': 48, 'waster': 49}\n"
     ]
    }
   ],
   "source": [
    "word_dict_top_50 = fit_top_50(corpus)\n",
    "print(word_dict_top_50)"
   ]
  },
  {
   "cell_type": "code",
   "execution_count": 20,
   "metadata": {},
   "outputs": [],
   "source": [
    "def transform_top_50(dataset, word_dict_top_50):\n",
    "    rows = []\n",
    "    columns = []\n",
    "    values = []\n",
    "    tf_val = []\n",
    "    idf_val = []\n",
    "    for idx, row in enumerate(dataset):\n",
    "        word_freq = dict(Counter(row.split()))\n",
    "        for word, freq in word_freq.items():\n",
    "            if len(word) < 2:\n",
    "                continue\n",
    "            col_index = word_dict_top_50.get(word, -1)\n",
    "            if col_index!=-1:\n",
    "                rows.append(idx)\n",
    "                columns.append(col_index)\n",
    "                tf_idf_value = (freq/len(row.split()))*(1 + (np.log((1 + len(dataset)) / (1 + count_of_word_in_corpus(dataset,word)))))\n",
    "                values.append(tf_idf_value)\n",
    "                sparse_matrix = csr_matrix((values, (rows,columns)), shape=(len(dataset), len(word_dict_top_50)))\n",
    "                final_normalized_output = normalize(sparse_matrix)\n",
    "    return final_normalized_output"
   ]
  },
  {
   "cell_type": "code",
   "execution_count": 21,
   "metadata": {},
   "outputs": [
    {
     "name": "stdout",
     "output_type": "stream",
     "text": [
      "  (19, 4)\t0.5773502691896258\n",
      "  (19, 17)\t0.5773502691896258\n",
      "  (19, 33)\t0.5773502691896258\n",
      "  (55, 44)\t1.0\n",
      "  (68, 30)\t1.0\n",
      "  (70, 40)\t1.0\n",
      "  (80, 35)\t1.0\n",
      "  (109, 0)\t1.0\n",
      "  (134, 45)\t1.0\n",
      "  (135, 11)\t0.408248290463863\n",
      "  (135, 22)\t0.408248290463863\n",
      "  (135, 23)\t0.408248290463863\n",
      "  (135, 29)\t0.408248290463863\n",
      "  (135, 41)\t0.408248290463863\n",
      "  (135, 43)\t0.408248290463863\n",
      "  (148, 7)\t0.5773502691896257\n",
      "  (148, 32)\t0.5773502691896257\n",
      "  (148, 46)\t0.5773502691896257\n",
      "  (155, 10)\t1.0\n",
      "  (191, 25)\t1.0\n",
      "  (222, 6)\t1.0\n",
      "  (251, 12)\t1.0\n",
      "  (270, 2)\t1.0\n",
      "  (321, 1)\t1.0\n",
      "  (326, 31)\t1.0\n",
      "  (337, 34)\t1.0\n",
      "  (340, 14)\t1.0\n",
      "  (341, 26)\t1.0\n",
      "  (350, 20)\t0.7071067811865476\n",
      "  (350, 27)\t0.7071067811865476\n",
      "  (361, 9)\t1.0\n",
      "  (366, 18)\t1.0\n",
      "  (378, 39)\t1.0\n",
      "  (421, 38)\t1.0\n",
      "  (452, 13)\t1.0\n",
      "  (464, 37)\t1.0\n",
      "  (495, 19)\t1.0\n",
      "  (514, 8)\t1.0\n",
      "  (518, 3)\t1.0\n",
      "  (521, 49)\t1.0\n",
      "  (525, 48)\t1.0\n",
      "  (535, 36)\t1.0\n",
      "  (562, 28)\t1.0\n",
      "  (633, 24)\t1.0\n",
      "  (634, 21)\t1.0\n",
      "  (644, 5)\t1.0\n",
      "  (680, 15)\t1.0\n",
      "  (719, 47)\t1.0\n",
      "  (720, 16)\t1.0\n",
      "  (734, 42)\t1.0\n"
     ]
    }
   ],
   "source": [
    "print(transform_top_50(corpus,word_dict_top_50))"
   ]
  },
  {
   "cell_type": "code",
   "execution_count": 22,
   "metadata": {},
   "outputs": [
    {
     "name": "stdout",
     "output_type": "stream",
     "text": [
      "[[0. 0. 0. ... 0. 0. 0.]\n",
      " [0. 0. 0. ... 0. 0. 0.]\n",
      " [0. 0. 0. ... 0. 0. 0.]\n",
      " ...\n",
      " [0. 0. 0. ... 0. 0. 0.]\n",
      " [0. 0. 0. ... 0. 0. 0.]\n",
      " [0. 0. 0. ... 0. 0. 0.]]\n"
     ]
    }
   ],
   "source": [
    "tf_idf_vectorized_max_feature = transform_top_50(corpus, word_dict_top_50)\n",
    "print(tf_idf_vectorized_max_feature.toarray())"
   ]
  },
  {
   "cell_type": "markdown",
   "metadata": {},
   "source": [
    "### SkLearn Implementation for max feature"
   ]
  },
  {
   "cell_type": "code",
   "execution_count": 23,
   "metadata": {},
   "outputs": [
    {
     "name": "stdout",
     "output_type": "stream",
     "text": [
      "[[0. 0. 0. ... 0. 0. 0.]\n",
      " [0. 0. 0. ... 0. 0. 0.]\n",
      " [0. 0. 0. ... 0. 0. 0.]\n",
      " ...\n",
      " [0. 0. 0. ... 0. 0. 0.]\n",
      " [0. 0. 0. ... 0. 0. 0.]\n",
      " [0. 0. 0. ... 0. 0. 0.]]\n"
     ]
    }
   ],
   "source": [
    "vectorizer.fit(corpus)\n",
    "skl_tf_idf_max_feature_vectorized = vectorizer.transform(corpus)\n",
    "print(skl_tf_idf_max_feature_vectorized.toarray())"
   ]
  }
 ],
 "metadata": {
  "kernelspec": {
   "display_name": "Python 3.10.1 64-bit",
   "language": "python",
   "name": "python3"
  },
  "language_info": {
   "codemirror_mode": {
    "name": "ipython",
    "version": 3
   },
   "file_extension": ".py",
   "mimetype": "text/x-python",
   "name": "python",
   "nbconvert_exporter": "python",
   "pygments_lexer": "ipython3",
   "version": "3.10.1"
  },
  "orig_nbformat": 4,
  "vscode": {
   "interpreter": {
    "hash": "26de051ba29f2982a8de78e945f0abaf191376122a1563185a90213a26c5da77"
   }
  }
 },
 "nbformat": 4,
 "nbformat_minor": 2
}
