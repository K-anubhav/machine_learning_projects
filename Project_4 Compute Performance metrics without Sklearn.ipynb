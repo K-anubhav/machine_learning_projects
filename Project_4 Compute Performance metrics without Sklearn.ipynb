{
 "cells": [
  {
   "cell_type": "markdown",
   "metadata": {},
   "source": [
    "# Compute performance metrics for the given Y and Y_score without sklearn"
   ]
  },
  {
   "cell_type": "code",
   "execution_count": 1,
   "metadata": {},
   "outputs": [],
   "source": [
    "import numpy as np\n",
    "import pandas as pd"
   ]
  },
  {
   "cell_type": "markdown",
   "metadata": {},
   "source": [
    "## A. Compute performance metrics for the given data '5_a.csv'"
   ]
  },
  {
   "cell_type": "code",
   "execution_count": 2,
   "metadata": {},
   "outputs": [
    {
     "data": {
      "text/html": [
       "<div>\n",
       "<style scoped>\n",
       "    .dataframe tbody tr th:only-of-type {\n",
       "        vertical-align: middle;\n",
       "    }\n",
       "\n",
       "    .dataframe tbody tr th {\n",
       "        vertical-align: top;\n",
       "    }\n",
       "\n",
       "    .dataframe thead th {\n",
       "        text-align: right;\n",
       "    }\n",
       "</style>\n",
       "<table border=\"1\" class=\"dataframe\">\n",
       "  <thead>\n",
       "    <tr style=\"text-align: right;\">\n",
       "      <th></th>\n",
       "      <th>y</th>\n",
       "      <th>proba</th>\n",
       "    </tr>\n",
       "  </thead>\n",
       "  <tbody>\n",
       "    <tr>\n",
       "      <th>0</th>\n",
       "      <td>1.0</td>\n",
       "      <td>0.637387</td>\n",
       "    </tr>\n",
       "    <tr>\n",
       "      <th>1</th>\n",
       "      <td>1.0</td>\n",
       "      <td>0.635165</td>\n",
       "    </tr>\n",
       "    <tr>\n",
       "      <th>2</th>\n",
       "      <td>1.0</td>\n",
       "      <td>0.766586</td>\n",
       "    </tr>\n",
       "    <tr>\n",
       "      <th>3</th>\n",
       "      <td>1.0</td>\n",
       "      <td>0.724564</td>\n",
       "    </tr>\n",
       "    <tr>\n",
       "      <th>4</th>\n",
       "      <td>1.0</td>\n",
       "      <td>0.889199</td>\n",
       "    </tr>\n",
       "  </tbody>\n",
       "</table>\n",
       "</div>"
      ],
      "text/plain": [
       "     y     proba\n",
       "0  1.0  0.637387\n",
       "1  1.0  0.635165\n",
       "2  1.0  0.766586\n",
       "3  1.0  0.724564\n",
       "4  1.0  0.889199"
      ]
     },
     "execution_count": 2,
     "metadata": {},
     "output_type": "execute_result"
    }
   ],
   "source": [
    "df_a=pd.read_csv('5_a.csv')\n",
    "df_a.head(5)"
   ]
  },
  {
   "cell_type": "code",
   "execution_count": 3,
   "metadata": {},
   "outputs": [
    {
     "data": {
      "text/html": [
       "<div>\n",
       "<style scoped>\n",
       "    .dataframe tbody tr th:only-of-type {\n",
       "        vertical-align: middle;\n",
       "    }\n",
       "\n",
       "    .dataframe tbody tr th {\n",
       "        vertical-align: top;\n",
       "    }\n",
       "\n",
       "    .dataframe thead th {\n",
       "        text-align: right;\n",
       "    }\n",
       "</style>\n",
       "<table border=\"1\" class=\"dataframe\">\n",
       "  <thead>\n",
       "    <tr style=\"text-align: right;\">\n",
       "      <th></th>\n",
       "      <th>y</th>\n",
       "      <th>proba</th>\n",
       "      <th>y_predicted</th>\n",
       "    </tr>\n",
       "  </thead>\n",
       "  <tbody>\n",
       "    <tr>\n",
       "      <th>0</th>\n",
       "      <td>1.0</td>\n",
       "      <td>0.637387</td>\n",
       "      <td>1</td>\n",
       "    </tr>\n",
       "    <tr>\n",
       "      <th>1</th>\n",
       "      <td>1.0</td>\n",
       "      <td>0.635165</td>\n",
       "      <td>1</td>\n",
       "    </tr>\n",
       "    <tr>\n",
       "      <th>2</th>\n",
       "      <td>1.0</td>\n",
       "      <td>0.766586</td>\n",
       "      <td>1</td>\n",
       "    </tr>\n",
       "    <tr>\n",
       "      <th>3</th>\n",
       "      <td>1.0</td>\n",
       "      <td>0.724564</td>\n",
       "      <td>1</td>\n",
       "    </tr>\n",
       "    <tr>\n",
       "      <th>4</th>\n",
       "      <td>1.0</td>\n",
       "      <td>0.889199</td>\n",
       "      <td>1</td>\n",
       "    </tr>\n",
       "  </tbody>\n",
       "</table>\n",
       "</div>"
      ],
      "text/plain": [
       "     y     proba  y_predicted\n",
       "0  1.0  0.637387            1\n",
       "1  1.0  0.635165            1\n",
       "2  1.0  0.766586            1\n",
       "3  1.0  0.724564            1\n",
       "4  1.0  0.889199            1"
      ]
     },
     "execution_count": 3,
     "metadata": {},
     "output_type": "execute_result"
    }
   ],
   "source": [
    "df_a['y_predicted']= df_a['proba'].apply(lambda x: 1 if x >= 0.5 else 0)\n",
    "df_a.head(5)"
   ]
  },
  {
   "cell_type": "code",
   "execution_count": 4,
   "metadata": {},
   "outputs": [
    {
     "name": "stdout",
     "output_type": "stream",
     "text": [
      "actual_y_train_array  [1. 1. 1. ... 1. 1. 1.]\n",
      "predicted_y_array [1 1 1 ... 1 1 1]\n"
     ]
    }
   ],
   "source": [
    "actual_y_train_array = df_a.iloc[:, 0].values\n",
    "print('actual_y_train_array ', actual_y_train_array)\n",
    "predicted_y_array = df_a.iloc[:, 2].values\n",
    "print('predicted_y_array', predicted_y_array)\n",
    "y_proba = df_a.iloc[:, 1].values"
   ]
  },
  {
   "cell_type": "code",
   "execution_count": 5,
   "metadata": {},
   "outputs": [],
   "source": [
    "def compute_confusion_matrix(actual_y, preditcted_y):\n",
    "    unique_class = np.unique(actual_y)\n",
    "    unique_class = unique_class[::-1]\n",
    "    confusion_matrix = np.zeros((len(unique_class), len(unique_class)))\n",
    "    for i in range(len(unique_class)):\n",
    "        for j in range(len(unique_class)):\n",
    "            confusion_matrix[i, j] = np.sum((actual_y == unique_class[i]) & (preditcted_y == unique_class[j]))\n",
    "\n",
    "    return confusion_matrix"
   ]
  },
  {
   "cell_type": "code",
   "execution_count": 6,
   "metadata": {},
   "outputs": [
    {
     "name": "stdout",
     "output_type": "stream",
     "text": [
      "[[10000.     0.]\n",
      " [  100.     0.]]\n"
     ]
    }
   ],
   "source": [
    "confusion_matrix_for_df_a = compute_confusion_matrix(actual_y_train_array, predicted_y_array)\n",
    "print(confusion_matrix_for_df_a)\n"
   ]
  },
  {
   "cell_type": "code",
   "execution_count": 7,
   "metadata": {},
   "outputs": [
    {
     "name": "stdout",
     "output_type": "stream",
     "text": [
      "F1 score is:  0.9950248756218906\n",
      "Accuracy score is:  0.9900990099009901\n"
     ]
    }
   ],
   "source": [
    "def compute_f1_and_accuracy_score(confusion_matrix):\n",
    "    true_positive = confusion_matrix[0][0]\n",
    "    false_positive = confusion_matrix[0][1]\n",
    "    true_negative  = confusion_matrix[1][1]    \n",
    "    false_negative = confusion_matrix[1][0]\n",
    "\n",
    "    precision = true_positive / (true_positive + false_positive)\n",
    "    recall = true_positive/ (true_positive + false_negative)\n",
    "    \n",
    "    f1_score = (2 * (precision * recall)) / (precision + recall )\n",
    "        \n",
    "    accuracy_score = (true_positive + true_negative)/np.concatenate(confusion_matrix).sum()\n",
    "    \n",
    "    return f1_score, accuracy_score\n",
    "\n",
    "f1_score,accuracy_score = compute_f1_and_accuracy_score(confusion_matrix_for_df_a)\n",
    "\n",
    "print(\"F1 score is: \", f1_score)\n",
    "print(\"Accuracy score is: \", accuracy_score)\n"
   ]
  },
  {
   "cell_type": "code",
   "execution_count": 8,
   "metadata": {},
   "outputs": [
    {
     "data": {
      "text/plain": [
       "[1.0, 1.0]"
      ]
     },
     "execution_count": 8,
     "metadata": {},
     "output_type": "execute_result"
    }
   ],
   "source": [
    "def compute_tpr_fpr(df):\n",
    "    tp = ((df['y'] == 1.0 ) & (df['y_predicted'] == 1)).sum()\n",
    "    fp = ((df['y'] == 0.0 ) & (df['y_predicted'] == 1)).sum()\n",
    "    tn = ((df['y'] == 0.0 ) & (df['y_predicted'] == 0)).sum()\n",
    "    fn = ((df['y'] == 1.0 ) & (df['y_predicted'] == 0)).sum()\n",
    "    tpr = tp / (tp + fn )\n",
    "    fpr = fp / (fp + tn)\n",
    "    return [tpr, fpr]\n",
    "\n",
    "compute_tpr_fpr(df_a)"
   ]
  },
  {
   "cell_type": "code",
   "execution_count": 9,
   "metadata": {},
   "outputs": [],
   "source": [
    "def compute_all_thresholds_tpr_fpr(df):\n",
    "    tpr_for_all_thresholds = []\n",
    "    fpr_for_all_thresholds = []\n",
    "    sorted_df = df.sort_values(by=['proba'], ascending=False)\n",
    "    unique_proba_thresholds = sorted_df['proba'].unique()\n",
    "    for threshold in unique_proba_thresholds:\n",
    "        sorted_df['y_predicted'] = np.where(sorted_df['proba'] >= threshold, 1, 0)\n",
    "        tpr_fpr_array = compute_tpr_fpr(sorted_df)\n",
    "        tpr_for_all_thresholds.append(tpr_fpr_array[0])\n",
    "        fpr_for_all_thresholds.append(tpr_fpr_array[1])\n",
    "    return tpr_for_all_thresholds, fpr_for_all_thresholds"
   ]
  },
  {
   "cell_type": "code",
   "execution_count": 10,
   "metadata": {},
   "outputs": [
    {
     "name": "stdout",
     "output_type": "stream",
     "text": [
      "AUC Score for 5_a is :  0.48829900000000004\n"
     ]
    }
   ],
   "source": [
    "all_tpr_for_df_a, all_fpr_for_df_a = compute_all_thresholds_tpr_fpr(df_a)\n",
    "auc_score_of_df_a = np.trapz(all_tpr_for_df_a, all_fpr_for_df_a)\n",
    "print('AUC Score for 5_a is : ', auc_score_of_df_a)"
   ]
  },
  {
   "cell_type": "code",
   "execution_count": 11,
   "metadata": {},
   "outputs": [
    {
     "data": {
      "text/plain": [
       "Text(0.5, 1.0, 'AUC=0.4883')"
      ]
     },
     "execution_count": 11,
     "metadata": {},
     "output_type": "execute_result"
    },
    {
     "data": {
      "image/png": "[encoded data removed]",
      "text/plain": [
       "<Figure size 432x288 with 1 Axes>"
      ]
     },
     "metadata": {
      "needs_background": "light"
     },
     "output_type": "display_data"
    }
   ],
   "source": [
    "import matplotlib.pyplot as plt\n",
    "\n",
    "plt.plot(all_tpr_for_df_a, all_fpr_for_df_a, 'r', lw=2)\n",
    "plt.plot([0, 1], [0, 1], 'k-', lw=2)\n",
    "plt.xlabel('FPR')\n",
    "plt.ylabel('TPR')\n",
    "plt.title('AUC={}'.format(round(auc_score_of_df_a, 4)))"
   ]
  },
  {
   "cell_type": "markdown",
   "metadata": {},
   "source": [
    "## B. Compute performance metrics for the given data '5_b.csv'"
   ]
  },
  {
   "cell_type": "code",
   "execution_count": 12,
   "metadata": {},
   "outputs": [
    {
     "data": {
      "text/html": [
       "<div>\n",
       "<style scoped>\n",
       "    .dataframe tbody tr th:only-of-type {\n",
       "        vertical-align: middle;\n",
       "    }\n",
       "\n",
       "    .dataframe tbody tr th {\n",
       "        vertical-align: top;\n",
       "    }\n",
       "\n",
       "    .dataframe thead th {\n",
       "        text-align: right;\n",
       "    }\n",
       "</style>\n",
       "<table border=\"1\" class=\"dataframe\">\n",
       "  <thead>\n",
       "    <tr style=\"text-align: right;\">\n",
       "      <th></th>\n",
       "      <th>y</th>\n",
       "      <th>proba</th>\n",
       "    </tr>\n",
       "  </thead>\n",
       "  <tbody>\n",
       "    <tr>\n",
       "      <th>0</th>\n",
       "      <td>0.0</td>\n",
       "      <td>0.281035</td>\n",
       "    </tr>\n",
       "    <tr>\n",
       "      <th>1</th>\n",
       "      <td>0.0</td>\n",
       "      <td>0.465152</td>\n",
       "    </tr>\n",
       "    <tr>\n",
       "      <th>2</th>\n",
       "      <td>0.0</td>\n",
       "      <td>0.352793</td>\n",
       "    </tr>\n",
       "    <tr>\n",
       "      <th>3</th>\n",
       "      <td>0.0</td>\n",
       "      <td>0.157818</td>\n",
       "    </tr>\n",
       "    <tr>\n",
       "      <th>4</th>\n",
       "      <td>0.0</td>\n",
       "      <td>0.276648</td>\n",
       "    </tr>\n",
       "  </tbody>\n",
       "</table>\n",
       "</div>"
      ],
      "text/plain": [
       "     y     proba\n",
       "0  0.0  0.281035\n",
       "1  0.0  0.465152\n",
       "2  0.0  0.352793\n",
       "3  0.0  0.157818\n",
       "4  0.0  0.276648"
      ]
     },
     "execution_count": 12,
     "metadata": {},
     "output_type": "execute_result"
    }
   ],
   "source": [
    "df_b=pd.read_csv('5_b.csv')\n",
    "df_b.head()"
   ]
  },
  {
   "cell_type": "code",
   "execution_count": 13,
   "metadata": {},
   "outputs": [
    {
     "data": {
      "text/html": [
       "<div>\n",
       "<style scoped>\n",
       "    .dataframe tbody tr th:only-of-type {\n",
       "        vertical-align: middle;\n",
       "    }\n",
       "\n",
       "    .dataframe tbody tr th {\n",
       "        vertical-align: top;\n",
       "    }\n",
       "\n",
       "    .dataframe thead th {\n",
       "        text-align: right;\n",
       "    }\n",
       "</style>\n",
       "<table border=\"1\" class=\"dataframe\">\n",
       "  <thead>\n",
       "    <tr style=\"text-align: right;\">\n",
       "      <th></th>\n",
       "      <th>y</th>\n",
       "      <th>proba</th>\n",
       "      <th>y_predicted</th>\n",
       "    </tr>\n",
       "  </thead>\n",
       "  <tbody>\n",
       "    <tr>\n",
       "      <th>0</th>\n",
       "      <td>0.0</td>\n",
       "      <td>0.281035</td>\n",
       "      <td>0</td>\n",
       "    </tr>\n",
       "    <tr>\n",
       "      <th>1</th>\n",
       "      <td>0.0</td>\n",
       "      <td>0.465152</td>\n",
       "      <td>0</td>\n",
       "    </tr>\n",
       "    <tr>\n",
       "      <th>2</th>\n",
       "      <td>0.0</td>\n",
       "      <td>0.352793</td>\n",
       "      <td>0</td>\n",
       "    </tr>\n",
       "    <tr>\n",
       "      <th>3</th>\n",
       "      <td>0.0</td>\n",
       "      <td>0.157818</td>\n",
       "      <td>0</td>\n",
       "    </tr>\n",
       "    <tr>\n",
       "      <th>4</th>\n",
       "      <td>0.0</td>\n",
       "      <td>0.276648</td>\n",
       "      <td>0</td>\n",
       "    </tr>\n",
       "  </tbody>\n",
       "</table>\n",
       "</div>"
      ],
      "text/plain": [
       "     y     proba  y_predicted\n",
       "0  0.0  0.281035            0\n",
       "1  0.0  0.465152            0\n",
       "2  0.0  0.352793            0\n",
       "3  0.0  0.157818            0\n",
       "4  0.0  0.276648            0"
      ]
     },
     "execution_count": 13,
     "metadata": {},
     "output_type": "execute_result"
    }
   ],
   "source": [
    "df_b['y_predicted']= df_b['proba'].apply(lambda x: 1 if x >= 0.5 else 0)\n",
    "df_b.head(5)"
   ]
  },
  {
   "cell_type": "code",
   "execution_count": 14,
   "metadata": {},
   "outputs": [
    {
     "name": "stdout",
     "output_type": "stream",
     "text": [
      "actual_y_train_array  [0. 0. 0. ... 0. 0. 0.]\n",
      "predicted_y_array [0 0 0 ... 0 0 0]\n"
     ]
    }
   ],
   "source": [
    "actual_y_train_array_df_b = df_b.iloc[:, 0].values\n",
    "print('actual_y_train_array ', actual_y_train_array_df_b)\n",
    "predicted_y_array_df_b = df_b.iloc[:, 2].values\n",
    "print('predicted_y_array', predicted_y_array_df_b)\n",
    "y_proba_df_b = df_b.iloc[:, 1].values"
   ]
  },
  {
   "cell_type": "code",
   "execution_count": 15,
   "metadata": {},
   "outputs": [
    {
     "name": "stdout",
     "output_type": "stream",
     "text": [
      "[[  55.   45.]\n",
      " [ 239. 9761.]]\n"
     ]
    }
   ],
   "source": [
    "confusion_matrix_for_df_b = compute_confusion_matrix(actual_y_train_array_df_b, predicted_y_array_df_b)\n",
    "print(confusion_matrix_for_df_b)"
   ]
  },
  {
   "cell_type": "code",
   "execution_count": 16,
   "metadata": {},
   "outputs": [
    {
     "name": "stdout",
     "output_type": "stream",
     "text": [
      "F1 score is:  0.2791878172588833\n",
      "Accuracy score is:  0.9718811881188119\n"
     ]
    },
    {
     "data": {
      "text/plain": [
       "[0.55, 0.0239]"
      ]
     },
     "execution_count": 16,
     "metadata": {},
     "output_type": "execute_result"
    }
   ],
   "source": [
    "f1_score_df_b,accuracy_score_df_b = compute_f1_and_accuracy_score(confusion_matrix_for_df_b)\n",
    "\n",
    "print(\"F1 score is: \", f1_score_df_b)\n",
    "print(\"Accuracy score is: \", accuracy_score_df_b)\n",
    "compute_tpr_fpr(df_b)"
   ]
  },
  {
   "cell_type": "code",
   "execution_count": 17,
   "metadata": {},
   "outputs": [
    {
     "name": "stdout",
     "output_type": "stream",
     "text": [
      "AUC Score for 5_b is :  0.9377570000000001\n"
     ]
    }
   ],
   "source": [
    "all_tpr_for_df_b, all_fpr_for_df_b = compute_all_thresholds_tpr_fpr(df_b)\n",
    "auc_score_of_df_b = np.trapz(all_tpr_for_df_b, all_fpr_for_df_b)\n",
    "print('AUC Score for 5_b is : ', auc_score_of_df_b)"
   ]
  },
  {
   "cell_type": "code",
   "execution_count": 18,
   "metadata": {},
   "outputs": [
    {
     "data": {
      "text/plain": [
       "Text(0.5, 1.0, 'AUC=0.9378')"
      ]
     },
     "execution_count": 18,
     "metadata": {},
     "output_type": "execute_result"
    },
    {
     "data": {
      "image/png": "[encoded data removed]",
      "text/plain": [
       "<Figure size 432x288 with 1 Axes>"
      ]
     },
     "metadata": {
      "needs_background": "light"
     },
     "output_type": "display_data"
    }
   ],
   "source": [
    "import matplotlib.pyplot as plt\n",
    "\n",
    "plt.plot(all_tpr_for_df_b, all_fpr_for_df_b, 'r', lw=2)\n",
    "plt.plot([0, 1], [0, 1], 'k-', lw=2)\n",
    "plt.xlabel('FPR')\n",
    "plt.ylabel('TPR')\n",
    "plt.title('AUC={}'.format(round(auc_score_of_df_b, 4)))"
   ]
  },
  {
   "cell_type": "markdown",
   "metadata": {},
   "source": [
    "### C. Compute the best threshold (similarly to ROC curve computation) of probability which gives lowest values of metric <b>A</b> for the given data "
   ]
  },
  {
   "cell_type": "code",
   "execution_count": 19,
   "metadata": {},
   "outputs": [
    {
     "data": {
      "text/html": [
       "<div>\n",
       "<style scoped>\n",
       "    .dataframe tbody tr th:only-of-type {\n",
       "        vertical-align: middle;\n",
       "    }\n",
       "\n",
       "    .dataframe tbody tr th {\n",
       "        vertical-align: top;\n",
       "    }\n",
       "\n",
       "    .dataframe thead th {\n",
       "        text-align: right;\n",
       "    }\n",
       "</style>\n",
       "<table border=\"1\" class=\"dataframe\">\n",
       "  <thead>\n",
       "    <tr style=\"text-align: right;\">\n",
       "      <th></th>\n",
       "      <th>y</th>\n",
       "      <th>prob</th>\n",
       "    </tr>\n",
       "  </thead>\n",
       "  <tbody>\n",
       "    <tr>\n",
       "      <th>0</th>\n",
       "      <td>0</td>\n",
       "      <td>0.458521</td>\n",
       "    </tr>\n",
       "    <tr>\n",
       "      <th>1</th>\n",
       "      <td>0</td>\n",
       "      <td>0.505037</td>\n",
       "    </tr>\n",
       "    <tr>\n",
       "      <th>2</th>\n",
       "      <td>0</td>\n",
       "      <td>0.418652</td>\n",
       "    </tr>\n",
       "    <tr>\n",
       "      <th>3</th>\n",
       "      <td>0</td>\n",
       "      <td>0.412057</td>\n",
       "    </tr>\n",
       "    <tr>\n",
       "      <th>4</th>\n",
       "      <td>0</td>\n",
       "      <td>0.375579</td>\n",
       "    </tr>\n",
       "  </tbody>\n",
       "</table>\n",
       "</div>"
      ],
      "text/plain": [
       "   y      prob\n",
       "0  0  0.458521\n",
       "1  0  0.505037\n",
       "2  0  0.418652\n",
       "3  0  0.412057\n",
       "4  0  0.375579"
      ]
     },
     "execution_count": 19,
     "metadata": {},
     "output_type": "execute_result"
    }
   ],
   "source": [
    "df_c=pd.read_csv('5_c.csv')\n",
    "df_c.head()"
   ]
  },
  {
   "cell_type": "code",
   "execution_count": 20,
   "metadata": {},
   "outputs": [
    {
     "name": "stdout",
     "output_type": "stream",
     "text": [
      "actual_y_train_df_c  [0 0 0 ... 1 1 1]\n",
      "y_proba_df_c  [0.45852068 0.50503693 0.41865174 ... 0.65916054 0.45626546 0.65916054]\n"
     ]
    }
   ],
   "source": [
    "actual_y_train_df_c = df_c.iloc[:, 0].values\n",
    "print('actual_y_train_df_c ', actual_y_train_df_c)\n",
    "\n",
    "y_proba_df_c = df_c.iloc[:, 1].values\n",
    "print('y_proba_df_c ', y_proba_df_c)\n",
    "\n",
    "unique_probability_thresholds_df_c = np.unique(df_c['prob'])"
   ]
  },
  {
   "cell_type": "code",
   "execution_count": 21,
   "metadata": {},
   "outputs": [],
   "source": [
    "def compute_metric_A(y_actual, y_proba, threshold):\n",
    "    tp = 0\n",
    "    fp = 0\n",
    "    tn = 0\n",
    "    fn = 0\n",
    "\n",
    "    for i in range(len(y_proba)):\n",
    "        if y_proba[i] >= threshold :\n",
    "            if y_actual[i] == 1:\n",
    "                tp += 1\n",
    "            else:\n",
    "                fp += 1\n",
    "                \n",
    "        if y_proba[i] < threshold:\n",
    "            if y_actual[i] == 0:\n",
    "                tn += 1\n",
    "            else:\n",
    "                fn += 1\n",
    "\n",
    "    A = (500 * fn) + (100 * fp)\n",
    "\n",
    "    return A"
   ]
  },
  {
   "cell_type": "code",
   "execution_count": 22,
   "metadata": {},
   "outputs": [],
   "source": [
    "def compute_minima_A (y_actual, y_proba, total_threshold ):\n",
    "    min_a = float('inf')\n",
    "    min_t = 0\n",
    "\n",
    "    for threshold in total_threshold:\n",
    "        a = compute_metric_A(y_actual, y_proba, threshold)\n",
    "        if a <= min_a:\n",
    "            min_a = min(a, min_a)\n",
    "            min_t = threshold\n",
    "\n",
    "    return min_a, min_t\n",
    "\n"
   ]
  },
  {
   "cell_type": "code",
   "execution_count": 23,
   "metadata": {},
   "outputs": [
    {
     "name": "stdout",
     "output_type": "stream",
     "text": [
      "(141000, 0.2300390278970873)\n"
     ]
    }
   ],
   "source": [
    "print(compute_minima_A(actual_y_train_df_c, y_proba_df_c, unique_probability_thresholds_df_c ))"
   ]
  },
  {
   "cell_type": "markdown",
   "metadata": {},
   "source": [
    "## D.</b></font> Compute performance metrics(for regression) for the given data 5_d.csv"
   ]
  },
  {
   "cell_type": "code",
   "execution_count": 24,
   "metadata": {},
   "outputs": [
    {
     "data": {
      "text/html": [
       "<div>\n",
       "<style scoped>\n",
       "    .dataframe tbody tr th:only-of-type {\n",
       "        vertical-align: middle;\n",
       "    }\n",
       "\n",
       "    .dataframe tbody tr th {\n",
       "        vertical-align: top;\n",
       "    }\n",
       "\n",
       "    .dataframe thead th {\n",
       "        text-align: right;\n",
       "    }\n",
       "</style>\n",
       "<table border=\"1\" class=\"dataframe\">\n",
       "  <thead>\n",
       "    <tr style=\"text-align: right;\">\n",
       "      <th></th>\n",
       "      <th>y</th>\n",
       "      <th>pred</th>\n",
       "    </tr>\n",
       "  </thead>\n",
       "  <tbody>\n",
       "    <tr>\n",
       "      <th>0</th>\n",
       "      <td>101.0</td>\n",
       "      <td>100.0</td>\n",
       "    </tr>\n",
       "    <tr>\n",
       "      <th>1</th>\n",
       "      <td>120.0</td>\n",
       "      <td>100.0</td>\n",
       "    </tr>\n",
       "    <tr>\n",
       "      <th>2</th>\n",
       "      <td>131.0</td>\n",
       "      <td>113.0</td>\n",
       "    </tr>\n",
       "    <tr>\n",
       "      <th>3</th>\n",
       "      <td>164.0</td>\n",
       "      <td>125.0</td>\n",
       "    </tr>\n",
       "    <tr>\n",
       "      <th>4</th>\n",
       "      <td>154.0</td>\n",
       "      <td>152.0</td>\n",
       "    </tr>\n",
       "  </tbody>\n",
       "</table>\n",
       "</div>"
      ],
      "text/plain": [
       "       y   pred\n",
       "0  101.0  100.0\n",
       "1  120.0  100.0\n",
       "2  131.0  113.0\n",
       "3  164.0  125.0\n",
       "4  154.0  152.0"
      ]
     },
     "execution_count": 24,
     "metadata": {},
     "output_type": "execute_result"
    }
   ],
   "source": [
    "df_d=pd.read_csv('5_d.csv')\n",
    "df_d.head()"
   ]
  },
  {
   "cell_type": "code",
   "execution_count": 25,
   "metadata": {},
   "outputs": [
    {
     "name": "stdout",
     "output_type": "stream",
     "text": [
      "actual_y_train_df_d  [101. 120. 131. ... 106. 105.  81.]\n",
      "predicted_y_df_d  [100. 100. 113. ...  93. 101. 104.]\n"
     ]
    }
   ],
   "source": [
    "actual_y_train_df_d = df_d.iloc[:, 0].values\n",
    "print('actual_y_train_df_d ', actual_y_train_df_d)\n",
    "\n",
    "predicted_y_df_d = df_d.iloc[:, 1].values\n",
    "print('predicted_y_df_d ', predicted_y_df_d)"
   ]
  },
  {
   "cell_type": "code",
   "execution_count": 26,
   "metadata": {},
   "outputs": [
    {
     "name": "stdout",
     "output_type": "stream",
     "text": [
      "177.16569974554707\n"
     ]
    }
   ],
   "source": [
    "def Compute_Mean_Square_Error(y_actual, y_predicted):\n",
    "    mse = np.mean((y_actual - y_predicted)**2)\n",
    "    return mse\n",
    "\n",
    "print(Compute_Mean_Square_Error(actual_y_train_df_d, predicted_y_df_d))"
   ]
  },
  {
   "cell_type": "code",
   "execution_count": 27,
   "metadata": {},
   "outputs": [
    {
     "name": "stdout",
     "output_type": "stream",
     "text": [
      "12.912029940096867\n"
     ]
    }
   ],
   "source": [
    "def Compute_MAPE(y_actual, y_predicted):\n",
    "    mape = np.mean((np.abs(y_actual - y_predicted)) / np.mean(y_actual)) * 100\n",
    "    return mape\n",
    "\n",
    "print(Compute_MAPE(actual_y_train_df_d, predicted_y_df_d))"
   ]
  },
  {
   "cell_type": "code",
   "execution_count": 28,
   "metadata": {},
   "outputs": [
    {
     "name": "stdout",
     "output_type": "stream",
     "text": [
      "0.9563582786990937\n"
     ]
    }
   ],
   "source": [
    "def Compute_R2_error(y_actual, y_predicted):\n",
    "\n",
    "    sum_squared_residual = ((y_actual - y_predicted)**2).sum()\n",
    "    sum_squared_total = ((y_actual - y_actual.mean())**2).sum()\n",
    "\n",
    "    return (1 - (sum_squared_residual/sum_squared_total))\n",
    "\n",
    "print(Compute_R2_error(actual_y_train_df_d, predicted_y_df_d))"
   ]
  }
 ],
 "metadata": {
  "kernelspec": {
   "display_name": "Python 3.10.1 64-bit",
   "language": "python",
   "name": "python3"
  },
  "language_info": {
   "codemirror_mode": {
    "name": "ipython",
    "version": 3
   },
   "file_extension": ".py",
   "mimetype": "text/x-python",
   "name": "python",
   "nbconvert_exporter": "python",
   "pygments_lexer": "ipython3",
   "version": "3.10.1"
  },
  "orig_nbformat": 4,
  "vscode": {
   "interpreter": {
    "hash": "26de051ba29f2982a8de78e945f0abaf191376122a1563185a90213a26c5da77"
   }
  }
 },
 "nbformat": 4,
 "nbformat_minor": 2
}
